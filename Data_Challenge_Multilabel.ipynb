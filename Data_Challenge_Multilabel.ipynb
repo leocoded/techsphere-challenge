{
  "cells": [
    {
      "cell_type": "code",
      "execution_count": 1,
      "metadata": {
        "colab": {
          "base_uri": "https://localhost:8080/"
        },
        "id": "qcLESynU3ZhI",
        "outputId": "b0c22dcf-ce76-4552-deb4-4992936c06ce",
        "collapsed": true
      },
      "outputs": [
        {
          "output_type": "stream",
          "name": "stdout",
          "text": [
            "Requirement already satisfied: transformers in /usr/local/lib/python3.12/dist-packages (4.55.2)\n",
            "Collecting transformers\n",
            "  Downloading transformers-4.55.4-py3-none-any.whl.metadata (41 kB)\n",
            "\u001b[2K     \u001b[90m━━━━━━━━━━━━━━━━━━━━━━━━━━━━━━━━━━━━━━━━\u001b[0m \u001b[32m42.0/42.0 kB\u001b[0m \u001b[31m2.3 MB/s\u001b[0m eta \u001b[36m0:00:00\u001b[0m\n",
            "\u001b[?25hRequirement already satisfied: filelock in /usr/local/lib/python3.12/dist-packages (from transformers) (3.19.1)\n",
            "Requirement already satisfied: huggingface-hub<1.0,>=0.34.0 in /usr/local/lib/python3.12/dist-packages (from transformers) (0.34.4)\n",
            "Requirement already satisfied: numpy>=1.17 in /usr/local/lib/python3.12/dist-packages (from transformers) (2.0.2)\n",
            "Requirement already satisfied: packaging>=20.0 in /usr/local/lib/python3.12/dist-packages (from transformers) (25.0)\n",
            "Requirement already satisfied: pyyaml>=5.1 in /usr/local/lib/python3.12/dist-packages (from transformers) (6.0.2)\n",
            "Requirement already satisfied: regex!=2019.12.17 in /usr/local/lib/python3.12/dist-packages (from transformers) (2024.11.6)\n",
            "Requirement already satisfied: requests in /usr/local/lib/python3.12/dist-packages (from transformers) (2.32.4)\n",
            "Requirement already satisfied: tokenizers<0.22,>=0.21 in /usr/local/lib/python3.12/dist-packages (from transformers) (0.21.4)\n",
            "Requirement already satisfied: safetensors>=0.4.3 in /usr/local/lib/python3.12/dist-packages (from transformers) (0.6.2)\n",
            "Requirement already satisfied: tqdm>=4.27 in /usr/local/lib/python3.12/dist-packages (from transformers) (4.67.1)\n",
            "Requirement already satisfied: fsspec>=2023.5.0 in /usr/local/lib/python3.12/dist-packages (from huggingface-hub<1.0,>=0.34.0->transformers) (2025.3.0)\n",
            "Requirement already satisfied: typing-extensions>=3.7.4.3 in /usr/local/lib/python3.12/dist-packages (from huggingface-hub<1.0,>=0.34.0->transformers) (4.14.1)\n",
            "Requirement already satisfied: hf-xet<2.0.0,>=1.1.3 in /usr/local/lib/python3.12/dist-packages (from huggingface-hub<1.0,>=0.34.0->transformers) (1.1.7)\n",
            "Requirement already satisfied: charset_normalizer<4,>=2 in /usr/local/lib/python3.12/dist-packages (from requests->transformers) (3.4.3)\n",
            "Requirement already satisfied: idna<4,>=2.5 in /usr/local/lib/python3.12/dist-packages (from requests->transformers) (3.10)\n",
            "Requirement already satisfied: urllib3<3,>=1.21.1 in /usr/local/lib/python3.12/dist-packages (from requests->transformers) (2.5.0)\n",
            "Requirement already satisfied: certifi>=2017.4.17 in /usr/local/lib/python3.12/dist-packages (from requests->transformers) (2025.8.3)\n",
            "Downloading transformers-4.55.4-py3-none-any.whl (11.3 MB)\n",
            "\u001b[2K   \u001b[90m━━━━━━━━━━━━━━━━━━━━━━━━━━━━━━━━━━━━━━━━\u001b[0m \u001b[32m11.3/11.3 MB\u001b[0m \u001b[31m65.1 MB/s\u001b[0m eta \u001b[36m0:00:00\u001b[0m\n",
            "\u001b[?25hInstalling collected packages: transformers\n",
            "  Attempting uninstall: transformers\n",
            "    Found existing installation: transformers 4.55.2\n",
            "    Uninstalling transformers-4.55.2:\n",
            "      Successfully uninstalled transformers-4.55.2\n",
            "Successfully installed transformers-4.55.4\n"
          ]
        }
      ],
      "source": [
        "pip install --upgrade transformers"
      ]
    },
    {
      "cell_type": "markdown",
      "source": [
        "📌 **Explicación de las librerías utilizadas**\n",
        "\n",
        "🔹 pandas:\n",
        "\n",
        "* Usada para cargar y manipular datasets en formato tabular (CSV).\n",
        "* Permite crear nuevas columnas, manejar valores nulos y procesar el texto (title + abstract).\n",
        "\n",
        "🔹 numpy\n",
        "\n",
        "* Se utiliza para operaciones numéricas y manejo de arreglos.\n",
        "* Convierte listas en arreglos eficientes que luego serán procesados por PyTorch o scikit-learn.\n",
        "\n",
        "🔹 torch (PyTorch)\n",
        "* Es esencial porque Hugging Face transformers está construido sobre PyTorch.\n",
        "\n",
        "🔹 joblib\n",
        "* Permite reutilizar el codificador de etiquetas en futuras predicciones.\n",
        "\n",
        "🔹 json\n",
        "* Se usa para guardar datos estructurados en formato JSON\n",
        "\n",
        "🔹 sklearn.model_selection.train_test_split\n",
        "* Divide el dataset en entrenamiento (train) y prueba (test).\n",
        "\n",
        "🔹 sklearn.preprocessing.MultiLabelBinarizer\n",
        "* Convierte etiquetas multiclase en formato de texto a un formato binario (One-hot encoding).\n",
        "\n",
        "🔹 sklearn.metrics (f1_score, precision_score, recall_score, accuracy_score, hamming_loss)\n",
        "* Permite calcular métricas de evaluación multilabel:\n",
        "\n",
        "🔹transformers (Hugging Face)\n",
        "* `AutoTokenizer`: convierte texto en tokens que entiende SciBERT.\n",
        "* `AutoModelForSequenceClassification`: carga el modelo SciBERT con una capa final adaptada a clasificación multilabel.\n",
        "* `TrainingArguments`: define hiperparámetros (epochs, batch size, learning rate, etc.).\n",
        "* `Trainer`: gestiona el entrenamiento, evaluación y predicción de forma automática."
      ],
      "metadata": {
        "id": "JnHTpbw9gVQM"
      }
    },
    {
      "cell_type": "code",
      "execution_count": 2,
      "metadata": {
        "collapsed": true,
        "id": "zkuIr4_98JWt"
      },
      "outputs": [],
      "source": [
        "# ================================================\n",
        "# PIPELINE DE CLASIFICACIÓN CON SCIBERT\n",
        "# ================================================\n",
        "import pandas as pd\n",
        "import numpy as np\n",
        "import torch\n",
        "import joblib, json\n",
        "from sklearn.model_selection import train_test_split\n",
        "from sklearn.preprocessing import MultiLabelBinarizer\n",
        "from sklearn.metrics import f1_score, precision_score, recall_score, accuracy_score, hamming_loss\n",
        "from transformers import AutoTokenizer, AutoModelForSequenceClassification, TrainingArguments, Trainer"
      ]
    },
    {
      "cell_type": "markdown",
      "source": [
        "📌 **Carga y alistamiento de Dataset**\n",
        "\n",
        "1. Se cargan los datos (read_csv).\n",
        "\n",
        "2. Se crea el texto de entrada (title + abstract).\n",
        "\n",
        "3. Se convierten las etiquetas a listas (split(\"|\")).\n",
        "\n",
        "4. Se binarizan las etiquetas con MultiLabelBinarizer.\n",
        "\n",
        "5. Se guarda el codificador de etiquetas (joblib y json).\n",
        "\n",
        "6. Se divide en train/test para entrenar y evaluar correctamente."
      ],
      "metadata": {
        "id": "mM4wwZhMqxhD"
      }
    },
    {
      "cell_type": "code",
      "execution_count": 3,
      "metadata": {
        "id": "2T_8nBHKFHfw"
      },
      "outputs": [],
      "source": [
        "  # ================================================\n",
        "  # 1. Cargar dataset\n",
        "  # ================================================\n",
        "  df = pd.read_csv(\"/content/challenge_data-18-ago.csv\", sep=\";\")\n",
        "\n",
        "  # El dataset tiene: title, abstract, group\n",
        "  # Usamos title + abstract como texto de entrada\n",
        "  df[\"text\"] = df[\"title\"].fillna(\"\") + \" \" + df[\"abstract\"].fillna(\"\")\n",
        "\n",
        "  # Suponiendo que la columna de etiquetas es \"labels\" y contiene strings tipo \"A,B\"\n",
        "  df[\"labels\"] = df[\"group\"].fillna(\"\").astype(str).apply(lambda x: x.split(\"|\") if x else [])\n",
        "\n",
        "\n",
        "  mlb = MultiLabelBinarizer()\n",
        "  y = mlb.fit_transform(df[\"labels\"])\n",
        "\n",
        "  joblib.dump(mlb, \"./label_encoder.pkl\")\n",
        "  with open(\"label_encoder.json\", \"w\") as f:\n",
        "      json.dump(mlb.classes_.tolist(), f)\n",
        "\n",
        "  X_train, X_test, y_train, y_test = train_test_split(df[\"text\"], y, test_size=0.2, random_state=42)\n",
        "\n"
      ]
    },
    {
      "cell_type": "markdown",
      "source": [
        "*📌* **Tokenización mediante SciBERT**\n",
        "\n",
        "1. Se tokenizan los textos usando SciBERT (allenai/scibert_scivocab_uncased), optimizado para lenguaje científico.\n",
        "\n",
        "2. Se aplica truncamiento y padding (max_length=256) para que todas las secuencias tengan la misma longitud.\n",
        "\n",
        "3. Se define una clase Dataset personalizada que: Encapsula los encodings y las etiquetas binarias. Implementa __len__ y __getitem__ para acceder a los datos como tensores de PyTorch.\n",
        "\n",
        "4. Se crean train_dataset y test_dataset combinando encodings y etiquetas.\n",
        "\n",
        "5. Esta preparación permite:\n",
        "  * Entrenar con inputs consistentes y normalizados, mejorando la estabilidad\n",
        "  * Manejar datasets multilabel correctamente.\n"
      ],
      "metadata": {
        "id": "Y6RFXS3BiARM"
      }
    },
    {
      "cell_type": "code",
      "execution_count": 4,
      "metadata": {
        "id": "IZuyZ3b81Rk7",
        "colab": {
          "base_uri": "https://localhost:8080/",
          "height": 185,
          "referenced_widgets": [
            "811688a8e4c443209a009f886410fe25",
            "a42cf0841a1f40d9a40a575c0f23e683",
            "c0d73122ecfc44689c648415ff8a0fe9",
            "9db55036451b41d68507135df2677a3f",
            "47c09c4e47e8492185c3760e300fbe0a",
            "0b7e59582fc94bd586ddd3266f9fa754",
            "d39bf4cdb66f4539bb5b55014e3db076",
            "93e6b534beb54aac9b9d01f9e306d753",
            "0892181cd1a044fc8ed55ee8f5276a44",
            "54241768cad544f58dfe57907af66525",
            "5427db2bb6fb44ca92e90bb1c54ec9d1",
            "47f70210a6b94d2d9e9f4147a3a40a93",
            "2d098febff7b43e2add177eeb3988079",
            "72b2b1bd1e3444f7be1cc9fe9cb2e028",
            "34f0360bc98040f487a826c1279ce8f7",
            "1925eb928fd348e6898b91d57b6e7a57",
            "cc73bc36175849beb4ac8e3a2fb8ed96",
            "1d5a9a2c9d7e4b5795e4beef86ce7eb5",
            "4b09cc8c54a048938c28b11ed8f3cba7",
            "24fa4ac33d1443049631b20cd37d16a9",
            "0f8fcebb1e0f4103939a140c52c96b92",
            "151d79e2c84347278927e661c147908f"
          ]
        },
        "outputId": "31de712e-84e8-4ab8-f489-e3548e1300f9"
      },
      "outputs": [
        {
          "output_type": "stream",
          "name": "stderr",
          "text": [
            "/usr/local/lib/python3.12/dist-packages/huggingface_hub/utils/_auth.py:94: UserWarning: \n",
            "The secret `HF_TOKEN` does not exist in your Colab secrets.\n",
            "To authenticate with the Hugging Face Hub, create a token in your settings tab (https://huggingface.co/settings/tokens), set it as secret in your Google Colab and restart your session.\n",
            "You will be able to reuse this secret in all of your notebooks.\n",
            "Please note that authentication is recommended but still optional to access public models or datasets.\n",
            "  warnings.warn(\n"
          ]
        },
        {
          "output_type": "display_data",
          "data": {
            "text/plain": [
              "config.json:   0%|          | 0.00/385 [00:00<?, ?B/s]"
            ],
            "application/vnd.jupyter.widget-view+json": {
              "version_major": 2,
              "version_minor": 0,
              "model_id": "811688a8e4c443209a009f886410fe25"
            }
          },
          "metadata": {}
        },
        {
          "output_type": "display_data",
          "data": {
            "text/plain": [
              "vocab.txt: 0.00B [00:00, ?B/s]"
            ],
            "application/vnd.jupyter.widget-view+json": {
              "version_major": 2,
              "version_minor": 0,
              "model_id": "47f70210a6b94d2d9e9f4147a3a40a93"
            }
          },
          "metadata": {}
        }
      ],
      "source": [
        "# ================================================\n",
        "# 2. Tokenización (SciBERT)\n",
        "# ================================================\n",
        "model_name = \"allenai/scibert_scivocab_uncased\"\n",
        "tokenizer = AutoTokenizer.from_pretrained(model_name)\n",
        "\n",
        "train_encodings = tokenizer(X_train.tolist(), truncation=True, padding=True, max_length=256)\n",
        "test_encodings = tokenizer(X_test.tolist(), truncation=True, padding=True, max_length=256)\n",
        "\n",
        "class Dataset(torch.utils.data.Dataset):\n",
        "    def __init__(self, encodings, labels):\n",
        "        self.encodings = encodings\n",
        "        self.labels = labels\n",
        "    def __len__(self):\n",
        "        return len(self.labels)\n",
        "    def __getitem__(self, idx):\n",
        "        item = {key: torch.tensor(val[idx]) for key, val in self.encodings.items()}\n",
        "        item[\"labels\"] = torch.tensor(self.labels[idx]).float()\n",
        "        return item\n",
        "\n",
        "train_dataset = Dataset(train_encodings, y_train)\n",
        "test_dataset = Dataset(test_encodings, y_test)"
      ]
    },
    {
      "cell_type": "markdown",
      "source": [
        "📌 **Modelo SciBERT**\n",
        "1. Se utiliza SciBERT, una variante de BERT entrenada en artículos científicos.\n",
        "\n",
        "2. Este modelo entiende mejor el vocabulario biomédico y técnico del dataset.\n",
        "\n",
        "3. La tarea se configura como clasificación multilabel, ya que un artículo puede pertenecer a varias categorías al mismo tiempo.\n",
        "\n",
        "4. El número de etiquetas (num_labels) se ajusta automáticamente según las clases presentes en el dataset."
      ],
      "metadata": {
        "id": "1dX_MzxqjPHa"
      }
    },
    {
      "cell_type": "code",
      "execution_count": 5,
      "metadata": {
        "colab": {
          "base_uri": "https://localhost:8080/",
          "height": 136,
          "referenced_widgets": [
            "2102780933ab4e4db57e06e14470306a",
            "8a2ad5493d9e4b0a926dde64283b2100",
            "708f62a6df824c149227285ad3a6526d",
            "f6e6a477dc744dd6ada9c6cf367146dc",
            "06343cb6673b4e2196b0b48bfd15defe",
            "03a69be961384d73a8d6c2f477338faf",
            "0ec1b5e7fd9f42a19923db7f7ec049bc",
            "e24214c2789f491a888fc993e9e4a1a7",
            "1e33d5f38dc8475fa15074bdac7f6596",
            "e33b9a9d524c4ae5b992c63ddc0b9516",
            "49bfa09759924529b1419eb93d3a129e",
            "c15232cd1a304129905bbd746f29c3cd",
            "8b7a3b05e41c4cbc8697dae0161a2a5c",
            "99bd72fcc249404ba4a16c63ab0c20ce",
            "fab889b4616c46cca158048207c3e75d",
            "b54733d2209e448693fd83558f616340",
            "fcba3ecf9edd4aeab085d8aaf8c77cfe",
            "683e627297ba44f5a89b4940879907b4",
            "3943dda52c304cae89ecebe529c41313",
            "bf7a6f8097e5420e834768a40ce073ec",
            "f46af02708bf4749a95f8a4b49c60897",
            "f6f1611ff5bb4b9084f216a1dea3f5fc"
          ]
        },
        "id": "1Cxab7b62xBT",
        "outputId": "29acf141-f083-44b2-ea6e-f8f5f3047a93"
      },
      "outputs": [
        {
          "output_type": "display_data",
          "data": {
            "text/plain": [
              "pytorch_model.bin:   0%|          | 0.00/442M [00:00<?, ?B/s]"
            ],
            "application/vnd.jupyter.widget-view+json": {
              "version_major": 2,
              "version_minor": 0,
              "model_id": "2102780933ab4e4db57e06e14470306a"
            }
          },
          "metadata": {}
        },
        {
          "output_type": "display_data",
          "data": {
            "text/plain": [
              "model.safetensors:   0%|          | 0.00/442M [00:00<?, ?B/s]"
            ],
            "application/vnd.jupyter.widget-view+json": {
              "version_major": 2,
              "version_minor": 0,
              "model_id": "c15232cd1a304129905bbd746f29c3cd"
            }
          },
          "metadata": {}
        },
        {
          "output_type": "stream",
          "name": "stderr",
          "text": [
            "Some weights of BertForSequenceClassification were not initialized from the model checkpoint at allenai/scibert_scivocab_uncased and are newly initialized: ['classifier.bias', 'classifier.weight']\n",
            "You should probably TRAIN this model on a down-stream task to be able to use it for predictions and inference.\n"
          ]
        }
      ],
      "source": [
        "# ================================================\n",
        "# 3. Modelo SciBERT para clasificación multilabel\n",
        "# ================================================\n",
        "model = AutoModelForSequenceClassification.from_pretrained(\n",
        "    model_name,\n",
        "    num_labels=len(mlb.classes_),\n",
        "    problem_type=\"multi_label_classification\"\n",
        ")"
      ]
    },
    {
      "cell_type": "markdown",
      "source": [
        "📌 **Hiperparametros**\n",
        "\n",
        "📉 Learning rate = 2e-5 → pequeño para no dañar el preentrenamiento de SciBERT y asegurar convergencia estable.\n",
        "\n",
        "🧮 Batch size = 8 → ajustado a la memoria, mantiene estabilidad en los gradientes.\n",
        "\n",
        "🔄 Épocas = 15 → suficientes para aprender sin caer en overfitting.\n",
        "\n",
        "⚖️ Weight decay = 0.01 → regularización para evitar sobreajuste.\n",
        "\n",
        "📊 Eval & Save por época → se monitorea desempeño y se guarda el mejor modelo.\n",
        "\n",
        "🏆 load_best_model_at_end=True → asegura usar el modelo con mejor validación al final."
      ],
      "metadata": {
        "id": "4i6Cbmq7jP0z"
      }
    },
    {
      "cell_type": "code",
      "execution_count": 6,
      "metadata": {
        "id": "I-jOO69I5XjT"
      },
      "outputs": [],
      "source": [
        "# ================================================\n",
        "# 4. Configuración de entrenamiento\n",
        "# ================================================\n",
        "training_args = TrainingArguments(\n",
        "    output_dir=\"./scibert_results\",\n",
        "    eval_strategy=\"epoch\",\n",
        "    save_strategy=\"epoch\",\n",
        "    learning_rate=2e-5,\n",
        "    per_device_train_batch_size=8,\n",
        "    per_device_eval_batch_size=8,\n",
        "    num_train_epochs=15,\n",
        "    weight_decay=0.01,\n",
        "    load_best_model_at_end=True,\n",
        ")\n"
      ]
    },
    {
      "cell_type": "markdown",
      "source": [
        "📌 **Métricas**\n",
        "\n",
        "✔️ **F1 (micro):** Evalúa el balance entre precisión y recall considerando todas las etiquetas de manera agregada.\n",
        "\n",
        "✔️ **Precision (micro):** Porcentaje de etiquetas predichas correctamente sobre todas las predicciones positivas.\n",
        "\n",
        "✔️ **Recall (micro):** Porcentaje de etiquetas reales que fueron correctamente identificadas por el modelo.\n",
        "\n",
        "✔️ **F1 (weighted):** F1-score ponderado según la proporción de cada clase, útil para evaluar desempeño equilibrado en etiquetas frecuentes y raras.\n",
        "\n",
        "✔️ **Precision (weighted):** Precisión ponderada por clase, reflejando desempeño general considerando la distribución de etiquetas.\n",
        "\n",
        "✔️ **Recall (weighted):** Recall ponderado por clase, evaluando exhaustividad global del modelo.\n",
        "\n",
        "✔️ **Exact match ratio:** Proporción de muestras donde todas las etiquetas fueron predichas correctamente.\n",
        "\n",
        "✔️ **Hamming Loss:** Porcentaje de etiquetas incorrectamente clasificadas, penalizando errores parciales en multilabel."
      ],
      "metadata": {
        "id": "D7CAtOraoS8j"
      }
    },
    {
      "cell_type": "code",
      "execution_count": 7,
      "metadata": {
        "id": "PtK-j-sl6arq"
      },
      "outputs": [],
      "source": [
        "# ================================================\n",
        "# 5. Definir Trainer con métricas multilabel\n",
        "# ================================================\n",
        "def compute_metrics(pred):\n",
        "    preds = (torch.sigmoid(torch.tensor(pred.predictions)) > 0.5).int().numpy()\n",
        "    labels = pred.label_ids\n",
        "    return {\n",
        "        \"f1\": f1_score(labels, preds, average=\"micro\"),\n",
        "        \"precision\": precision_score(labels, preds, average=\"micro\"),\n",
        "        \"recall\": recall_score(labels, preds, average=\"micro\"),\n",
        "        \"f1_weighted\": f1_score(labels, preds, average=\"weighted\", zero_division=0),\n",
        "        \"precision_weighted\": precision_score(labels, preds, average=\"weighted\", zero_division=0),\n",
        "        \"recall_weighted\": recall_score(labels, preds, average=\"weighted\", zero_division=0),\n",
        "        \"exact_match_ratio\": accuracy_score(labels, preds),\n",
        "        \"hamming_loss\": hamming_loss(labels, preds),\n",
        "    }\n",
        "\n",
        "trainer = Trainer(\n",
        "    model=model,\n",
        "    args=training_args,\n",
        "    train_dataset=train_dataset,\n",
        "    eval_dataset=test_dataset,\n",
        "    compute_metrics=compute_metrics,\n",
        ")\n"
      ]
    },
    {
      "cell_type": "code",
      "execution_count": 8,
      "metadata": {
        "colab": {
          "base_uri": "https://localhost:8080/",
          "height": 875
        },
        "id": "IkrhoLip6ry9",
        "outputId": "17eda75c-bf0c-4123-ff9a-d99ba41aff9a"
      },
      "outputs": [
        {
          "output_type": "stream",
          "name": "stderr",
          "text": [
            "/usr/local/lib/python3.12/dist-packages/notebook/notebookapp.py:191: SyntaxWarning: invalid escape sequence '\\/'\n",
            "  | |_| | '_ \\/ _` / _` |  _/ -_)\n"
          ]
        },
        {
          "output_type": "display_data",
          "data": {
            "text/plain": [
              "<IPython.core.display.Javascript object>"
            ],
            "application/javascript": [
              "\n",
              "        window._wandbApiKey = new Promise((resolve, reject) => {\n",
              "            function loadScript(url) {\n",
              "            return new Promise(function(resolve, reject) {\n",
              "                let newScript = document.createElement(\"script\");\n",
              "                newScript.onerror = reject;\n",
              "                newScript.onload = resolve;\n",
              "                document.body.appendChild(newScript);\n",
              "                newScript.src = url;\n",
              "            });\n",
              "            }\n",
              "            loadScript(\"https://cdn.jsdelivr.net/npm/postmate/build/postmate.min.js\").then(() => {\n",
              "            const iframe = document.createElement('iframe')\n",
              "            iframe.style.cssText = \"width:0;height:0;border:none\"\n",
              "            document.body.appendChild(iframe)\n",
              "            const handshake = new Postmate({\n",
              "                container: iframe,\n",
              "                url: 'https://wandb.ai/authorize'\n",
              "            });\n",
              "            const timeout = setTimeout(() => reject(\"Couldn't auto authenticate\"), 5000)\n",
              "            handshake.then(function(child) {\n",
              "                child.on('authorize', data => {\n",
              "                    clearTimeout(timeout)\n",
              "                    resolve(data)\n",
              "                });\n",
              "            });\n",
              "            })\n",
              "        });\n",
              "    "
            ]
          },
          "metadata": {}
        },
        {
          "output_type": "stream",
          "name": "stderr",
          "text": [
            "\u001b[34m\u001b[1mwandb\u001b[0m: Logging into wandb.ai. (Learn how to deploy a W&B server locally: https://wandb.me/wandb-server)\n",
            "\u001b[34m\u001b[1mwandb\u001b[0m: You can find your API key in your browser here: https://wandb.ai/authorize?ref=models\n",
            "wandb: Paste an API key from your profile and hit enter:"
          ]
        },
        {
          "name": "stdout",
          "output_type": "stream",
          "text": [
            " ··········\n"
          ]
        },
        {
          "output_type": "stream",
          "name": "stderr",
          "text": [
            "\u001b[34m\u001b[1mwandb\u001b[0m: \u001b[33mWARNING\u001b[0m If you're specifying your api key in code, ensure this code is not shared publicly.\n",
            "\u001b[34m\u001b[1mwandb\u001b[0m: \u001b[33mWARNING\u001b[0m Consider setting the WANDB_API_KEY environment variable, or running `wandb login` from the command line.\n",
            "\u001b[34m\u001b[1mwandb\u001b[0m: No netrc file found, creating one.\n",
            "\u001b[34m\u001b[1mwandb\u001b[0m: Appending key for api.wandb.ai to your netrc file: /root/.netrc\n",
            "\u001b[34m\u001b[1mwandb\u001b[0m: Currently logged in as: \u001b[33mmateo-bravor\u001b[0m (\u001b[33mmateo-bravor-universidad-de-antioquia\u001b[0m) to \u001b[32mhttps://api.wandb.ai\u001b[0m. Use \u001b[1m`wandb login --relogin`\u001b[0m to force relogin\n"
          ]
        },
        {
          "output_type": "display_data",
          "data": {
            "text/plain": [
              "<IPython.core.display.HTML object>"
            ],
            "text/html": [
              "Tracking run with wandb version 0.21.1"
            ]
          },
          "metadata": {}
        },
        {
          "output_type": "display_data",
          "data": {
            "text/plain": [
              "<IPython.core.display.HTML object>"
            ],
            "text/html": [
              "Run data is saved locally in <code>/content/wandb/run-20250825_234723-ujmibyd4</code>"
            ]
          },
          "metadata": {}
        },
        {
          "output_type": "display_data",
          "data": {
            "text/plain": [
              "<IPython.core.display.HTML object>"
            ],
            "text/html": [
              "Syncing run <strong><a href='https://wandb.ai/mateo-bravor-universidad-de-antioquia/huggingface/runs/ujmibyd4' target=\"_blank\">vague-cherry-6</a></strong> to <a href='https://wandb.ai/mateo-bravor-universidad-de-antioquia/huggingface' target=\"_blank\">Weights & Biases</a> (<a href='https://wandb.me/developer-guide' target=\"_blank\">docs</a>)<br>"
            ]
          },
          "metadata": {}
        },
        {
          "output_type": "display_data",
          "data": {
            "text/plain": [
              "<IPython.core.display.HTML object>"
            ],
            "text/html": [
              " View project at <a href='https://wandb.ai/mateo-bravor-universidad-de-antioquia/huggingface' target=\"_blank\">https://wandb.ai/mateo-bravor-universidad-de-antioquia/huggingface</a>"
            ]
          },
          "metadata": {}
        },
        {
          "output_type": "display_data",
          "data": {
            "text/plain": [
              "<IPython.core.display.HTML object>"
            ],
            "text/html": [
              " View run at <a href='https://wandb.ai/mateo-bravor-universidad-de-antioquia/huggingface/runs/ujmibyd4' target=\"_blank\">https://wandb.ai/mateo-bravor-universidad-de-antioquia/huggingface/runs/ujmibyd4</a>"
            ]
          },
          "metadata": {}
        },
        {
          "output_type": "display_data",
          "data": {
            "text/plain": [
              "<IPython.core.display.HTML object>"
            ],
            "text/html": [
              "\n",
              "    <div>\n",
              "      \n",
              "      <progress value='5355' max='5355' style='width:300px; height:20px; vertical-align: middle;'></progress>\n",
              "      [5355/5355 38:32, Epoch 15/15]\n",
              "    </div>\n",
              "    <table border=\"1\" class=\"dataframe\">\n",
              "  <thead>\n",
              " <tr style=\"text-align: left;\">\n",
              "      <th>Epoch</th>\n",
              "      <th>Training Loss</th>\n",
              "      <th>Validation Loss</th>\n",
              "      <th>F1</th>\n",
              "      <th>Precision</th>\n",
              "      <th>Recall</th>\n",
              "      <th>F1 Weighted</th>\n",
              "      <th>Precision Weighted</th>\n",
              "      <th>Recall Weighted</th>\n",
              "      <th>Exact Match Ratio</th>\n",
              "      <th>Hamming Loss</th>\n",
              "      <th>Runtime</th>\n",
              "      <th>Samples Per Second</th>\n",
              "      <th>Steps Per Second</th>\n",
              "    </tr>\n",
              "  </thead>\n",
              "  <tbody>\n",
              "    <tr>\n",
              "      <td>1</td>\n",
              "      <td>No log</td>\n",
              "      <td>0.143881</td>\n",
              "      <td>0.932760</td>\n",
              "      <td>0.960133</td>\n",
              "      <td>0.906904</td>\n",
              "      <td>0.932536</td>\n",
              "      <td>0.960031</td>\n",
              "      <td>0.906904</td>\n",
              "      <td>0.845722</td>\n",
              "      <td>0.043829</td>\n",
              "      <td>10.892900</td>\n",
              "      <td>65.455000</td>\n",
              "      <td>8.262000</td>\n",
              "    </tr>\n",
              "    <tr>\n",
              "      <td>2</td>\n",
              "      <td>0.234200</td>\n",
              "      <td>0.138344</td>\n",
              "      <td>0.936763</td>\n",
              "      <td>0.960440</td>\n",
              "      <td>0.914226</td>\n",
              "      <td>0.936261</td>\n",
              "      <td>0.960142</td>\n",
              "      <td>0.914226</td>\n",
              "      <td>0.856942</td>\n",
              "      <td>0.041374</td>\n",
              "      <td>10.972400</td>\n",
              "      <td>64.981000</td>\n",
              "      <td>8.202000</td>\n",
              "    </tr>\n",
              "    <tr>\n",
              "      <td>3</td>\n",
              "      <td>0.097200</td>\n",
              "      <td>0.129111</td>\n",
              "      <td>0.937733</td>\n",
              "      <td>0.954496</td>\n",
              "      <td>0.921548</td>\n",
              "      <td>0.937428</td>\n",
              "      <td>0.954085</td>\n",
              "      <td>0.921548</td>\n",
              "      <td>0.858345</td>\n",
              "      <td>0.041024</td>\n",
              "      <td>10.890800</td>\n",
              "      <td>65.468000</td>\n",
              "      <td>8.264000</td>\n",
              "    </tr>\n",
              "    <tr>\n",
              "      <td>4</td>\n",
              "      <td>0.097200</td>\n",
              "      <td>0.135501</td>\n",
              "      <td>0.945032</td>\n",
              "      <td>0.955128</td>\n",
              "      <td>0.935146</td>\n",
              "      <td>0.945038</td>\n",
              "      <td>0.955181</td>\n",
              "      <td>0.935146</td>\n",
              "      <td>0.873773</td>\n",
              "      <td>0.036466</td>\n",
              "      <td>10.953300</td>\n",
              "      <td>65.095000</td>\n",
              "      <td>8.217000</td>\n",
              "    </tr>\n",
              "    <tr>\n",
              "      <td>5</td>\n",
              "      <td>0.055200</td>\n",
              "      <td>0.154343</td>\n",
              "      <td>0.940260</td>\n",
              "      <td>0.933953</td>\n",
              "      <td>0.946653</td>\n",
              "      <td>0.940631</td>\n",
              "      <td>0.935071</td>\n",
              "      <td>0.946653</td>\n",
              "      <td>0.859748</td>\n",
              "      <td>0.040323</td>\n",
              "      <td>10.937900</td>\n",
              "      <td>65.186000</td>\n",
              "      <td>8.228000</td>\n",
              "    </tr>\n",
              "    <tr>\n",
              "      <td>6</td>\n",
              "      <td>0.031800</td>\n",
              "      <td>0.158967</td>\n",
              "      <td>0.945474</td>\n",
              "      <td>0.957128</td>\n",
              "      <td>0.934100</td>\n",
              "      <td>0.945360</td>\n",
              "      <td>0.957153</td>\n",
              "      <td>0.934100</td>\n",
              "      <td>0.872370</td>\n",
              "      <td>0.036115</td>\n",
              "      <td>10.920000</td>\n",
              "      <td>65.293000</td>\n",
              "      <td>8.242000</td>\n",
              "    </tr>\n",
              "    <tr>\n",
              "      <td>7</td>\n",
              "      <td>0.031800</td>\n",
              "      <td>0.178533</td>\n",
              "      <td>0.940432</td>\n",
              "      <td>0.947928</td>\n",
              "      <td>0.933054</td>\n",
              "      <td>0.940401</td>\n",
              "      <td>0.947910</td>\n",
              "      <td>0.933054</td>\n",
              "      <td>0.861150</td>\n",
              "      <td>0.039621</td>\n",
              "      <td>10.958300</td>\n",
              "      <td>65.065000</td>\n",
              "      <td>8.213000</td>\n",
              "    </tr>\n",
              "    <tr>\n",
              "      <td>8</td>\n",
              "      <td>0.019600</td>\n",
              "      <td>0.182230</td>\n",
              "      <td>0.943277</td>\n",
              "      <td>0.947257</td>\n",
              "      <td>0.939331</td>\n",
              "      <td>0.943556</td>\n",
              "      <td>0.948053</td>\n",
              "      <td>0.939331</td>\n",
              "      <td>0.872370</td>\n",
              "      <td>0.037868</td>\n",
              "      <td>10.917700</td>\n",
              "      <td>65.307000</td>\n",
              "      <td>8.243000</td>\n",
              "    </tr>\n",
              "    <tr>\n",
              "      <td>9</td>\n",
              "      <td>0.009700</td>\n",
              "      <td>0.183760</td>\n",
              "      <td>0.944269</td>\n",
              "      <td>0.949260</td>\n",
              "      <td>0.939331</td>\n",
              "      <td>0.944381</td>\n",
              "      <td>0.949515</td>\n",
              "      <td>0.939331</td>\n",
              "      <td>0.875175</td>\n",
              "      <td>0.037167</td>\n",
              "      <td>10.917600</td>\n",
              "      <td>65.308000</td>\n",
              "      <td>8.244000</td>\n",
              "    </tr>\n",
              "    <tr>\n",
              "      <td>10</td>\n",
              "      <td>0.006100</td>\n",
              "      <td>0.190530</td>\n",
              "      <td>0.940869</td>\n",
              "      <td>0.941361</td>\n",
              "      <td>0.940377</td>\n",
              "      <td>0.940995</td>\n",
              "      <td>0.941681</td>\n",
              "      <td>0.940377</td>\n",
              "      <td>0.863955</td>\n",
              "      <td>0.039621</td>\n",
              "      <td>10.864200</td>\n",
              "      <td>65.628000</td>\n",
              "      <td>8.284000</td>\n",
              "    </tr>\n",
              "    <tr>\n",
              "      <td>11</td>\n",
              "      <td>0.006100</td>\n",
              "      <td>0.191940</td>\n",
              "      <td>0.943773</td>\n",
              "      <td>0.948258</td>\n",
              "      <td>0.939331</td>\n",
              "      <td>0.943872</td>\n",
              "      <td>0.948486</td>\n",
              "      <td>0.939331</td>\n",
              "      <td>0.872370</td>\n",
              "      <td>0.037518</td>\n",
              "      <td>11.083600</td>\n",
              "      <td>64.329000</td>\n",
              "      <td>8.120000</td>\n",
              "    </tr>\n",
              "    <tr>\n",
              "      <td>12</td>\n",
              "      <td>0.003600</td>\n",
              "      <td>0.194911</td>\n",
              "      <td>0.943714</td>\n",
              "      <td>0.949206</td>\n",
              "      <td>0.938285</td>\n",
              "      <td>0.943790</td>\n",
              "      <td>0.949418</td>\n",
              "      <td>0.938285</td>\n",
              "      <td>0.873773</td>\n",
              "      <td>0.037518</td>\n",
              "      <td>11.086000</td>\n",
              "      <td>64.315000</td>\n",
              "      <td>8.118000</td>\n",
              "    </tr>\n",
              "    <tr>\n",
              "      <td>13</td>\n",
              "      <td>0.002700</td>\n",
              "      <td>0.196573</td>\n",
              "      <td>0.943218</td>\n",
              "      <td>0.948203</td>\n",
              "      <td>0.938285</td>\n",
              "      <td>0.943290</td>\n",
              "      <td>0.948422</td>\n",
              "      <td>0.938285</td>\n",
              "      <td>0.870968</td>\n",
              "      <td>0.037868</td>\n",
              "      <td>11.029900</td>\n",
              "      <td>64.643000</td>\n",
              "      <td>8.160000</td>\n",
              "    </tr>\n",
              "    <tr>\n",
              "      <td>14</td>\n",
              "      <td>0.002700</td>\n",
              "      <td>0.196071</td>\n",
              "      <td>0.943218</td>\n",
              "      <td>0.948203</td>\n",
              "      <td>0.938285</td>\n",
              "      <td>0.943304</td>\n",
              "      <td>0.948414</td>\n",
              "      <td>0.938285</td>\n",
              "      <td>0.872370</td>\n",
              "      <td>0.037868</td>\n",
              "      <td>10.935200</td>\n",
              "      <td>65.203000</td>\n",
              "      <td>8.230000</td>\n",
              "    </tr>\n",
              "    <tr>\n",
              "      <td>15</td>\n",
              "      <td>0.002000</td>\n",
              "      <td>0.197715</td>\n",
              "      <td>0.944211</td>\n",
              "      <td>0.950212</td>\n",
              "      <td>0.938285</td>\n",
              "      <td>0.944254</td>\n",
              "      <td>0.950324</td>\n",
              "      <td>0.938285</td>\n",
              "      <td>0.875175</td>\n",
              "      <td>0.037167</td>\n",
              "      <td>10.983900</td>\n",
              "      <td>64.913000</td>\n",
              "      <td>8.194000</td>\n",
              "    </tr>\n",
              "  </tbody>\n",
              "</table><p>"
            ]
          },
          "metadata": {}
        },
        {
          "output_type": "execute_result",
          "data": {
            "text/plain": [
              "TrainOutput(global_step=5355, training_loss=0.04324825086068261, metrics={'train_runtime': 3252.9125, 'train_samples_per_second': 13.151, 'train_steps_per_second': 1.646, 'total_flos': 5628046536253440.0, 'train_loss': 0.04324825086068261, 'epoch': 15.0})"
            ]
          },
          "metadata": {},
          "execution_count": 8
        }
      ],
      "source": [
        "# ================================================\n",
        "# 6. Entrenar\n",
        "# ================================================\n",
        "trainer.train()"
      ]
    },
    {
      "cell_type": "code",
      "execution_count": 9,
      "metadata": {
        "colab": {
          "base_uri": "https://localhost:8080/",
          "height": 297
        },
        "id": "xZDtPyD7JmEc",
        "outputId": "716fd798-6e5e-431d-9ce1-9b598b5d49c2"
      },
      "outputs": [
        {
          "output_type": "display_data",
          "data": {
            "text/plain": [
              "<IPython.core.display.HTML object>"
            ],
            "text/html": [
              "\n",
              "    <div>\n",
              "      \n",
              "      <progress value='90' max='90' style='width:300px; height:20px; vertical-align: middle;'></progress>\n",
              "      [90/90 00:10]\n",
              "    </div>\n",
              "    "
            ]
          },
          "metadata": {}
        },
        {
          "output_type": "stream",
          "name": "stdout",
          "text": [
            "{\n",
            "    \"eval_loss\": 0.12911055982112885,\n",
            "    \"eval_f1\": 0.9377328366152209,\n",
            "    \"eval_precision\": 0.9544962080173348,\n",
            "    \"eval_recall\": 0.9215481171548117,\n",
            "    \"eval_f1_weighted\": 0.9374279009645027,\n",
            "    \"eval_precision_weighted\": 0.9540849594043556,\n",
            "    \"eval_recall_weighted\": 0.9215481171548117,\n",
            "    \"eval_exact_match_ratio\": 0.8583450210378681,\n",
            "    \"eval_hamming_loss\": 0.04102384291725105,\n",
            "    \"eval_runtime\": 10.818,\n",
            "    \"eval_samples_per_second\": 65.909,\n",
            "    \"eval_steps_per_second\": 8.32,\n",
            "    \"epoch\": 15.0\n",
            "}\n"
          ]
        }
      ],
      "source": [
        "# ================================================\n",
        "# 7. Evaluar modelo\n",
        "# ================================================\n",
        "\n",
        "# Evaluar modelo\n",
        "results = trainer.evaluate()\n",
        "print(json.dumps(results, indent=4))\n",
        "\n",
        "# Guardar resultados en archivo JSON\n",
        "with open(\"evaluation_results.json\", \"w\") as f:\n",
        "    json.dump(results, f, indent=4)"
      ]
    },
    {
      "cell_type": "markdown",
      "source": [
        "📌 **Matriz de confusión**\n",
        "\n",
        "1. Se obtienen las predicciones del modelo sobre el conjunto de prueba (trainer.predict).\n",
        "\n",
        "2. Se aplica sigmoid y umbral 0.5 para convertir logits en predicciones binarias multilabel.\n",
        "\n",
        "3. Se calculan las matrices de confusión multilabel usando multilabel_confusion_matrix, generando una matriz independiente por cada clase.\n",
        "\n",
        "4. Cada matriz muestra los cuatro componentes:\n",
        "\n",
        "* TN (True Negative): aciertos en negativos.\n",
        "* FP (False Positive): falsos positivos.\n",
        "* FN (False Negative): falsos negativos.\n",
        "* TP (True Positive): aciertos en positivos.\n",
        "\n",
        "5. Se visualiza cada matriz con ConfusionMatrixDisplay para interpretar el desempeño del modelo por clase, identificando posibles errores de predicción o sesgos hacia ciertas etiquetas."
      ],
      "metadata": {
        "id": "UEhUB9F8sq4I"
      }
    },
    {
      "cell_type": "code",
      "source": [
        "from sklearn.metrics import multilabel_confusion_matrix, ConfusionMatrixDisplay\n",
        "import matplotlib.pyplot as plt\n",
        "\n",
        "# ================================================\n",
        "# 8. Matriz de confusión\n",
        "# ================================================\n",
        "# Obtener predicciones en el set de test\n",
        "predictions = trainer.predict(test_dataset)\n",
        "preds = (torch.sigmoid(torch.tensor(predictions.predictions)) > 0.5).int().numpy()\n",
        "labels = predictions.label_ids\n",
        "\n",
        "# Calcular matriz de confusión multilabel\n",
        "cm = multilabel_confusion_matrix(labels, preds)\n",
        "\n",
        "# Mostrar matriz por cada clase\n",
        "for i, class_name in enumerate(mlb.classes_):\n",
        "    disp = ConfusionMatrixDisplay(confusion_matrix=cm[i], display_labels=[f\"No {class_name}\", class_name])\n",
        "    disp.plot(cmap=plt.cm.Blues)\n",
        "    plt.title(f\"Matriz de confusión - {class_name}\")\n",
        "    plt.show()\n"
      ],
      "metadata": {
        "colab": {
          "base_uri": "https://localhost:8080/",
          "height": 1000
        },
        "id": "cyr5b35K2u7M",
        "outputId": "c2fb0127-3c56-4833-8c04-ad4473231284"
      },
      "execution_count": 10,
      "outputs": [
        {
          "output_type": "display_data",
          "data": {
            "text/plain": [
              "<IPython.core.display.HTML object>"
            ],
            "text/html": []
          },
          "metadata": {}
        },
        {
          "output_type": "display_data",
          "data": {
            "text/plain": [
              "<Figure size 640x480 with 2 Axes>"
            ],
            "image/png": "[encoded data removed]"
          },
          "metadata": {}
        },
        {
          "output_type": "display_data",
          "data": {
            "text/plain": [
              "<Figure size 640x480 with 2 Axes>"
            ],
            "image/png": "[encoded data removed]"
          },
          "metadata": {}
        },
        {
          "output_type": "display_data",
          "data": {
            "text/plain": [
              "<Figure size 640x480 with 2 Axes>"
            ],
            "image/png": "[encoded data removed]"
          },
          "metadata": {}
        },
        {
          "output_type": "display_data",
          "data": {
            "text/plain": [
              "<Figure size 640x480 with 2 Axes>"
            ],
            "image/png": "[encoded data removed]"
          },
          "metadata": {}
        }
      ]
    },
    {
      "cell_type": "code",
      "source": [
        "cm = multilabel_confusion_matrix(labels, preds)\n",
        "\n",
        "# Crear un diccionario con cada clase y su matriz\n",
        "cm_dict = {}\n",
        "for i, class_name in enumerate(mlb.classes_):\n",
        "    cm_dict[class_name] = {\n",
        "        \"TN\": int(cm[i][0][0]),\n",
        "        \"FP\": int(cm[i][0][1]),\n",
        "        \"FN\": int(cm[i][1][0]),\n",
        "        \"TP\": int(cm[i][1][1])\n",
        "    }\n",
        "\n",
        "# Guardar en un archivo JSON\n",
        "with open(\"confusion_matrices.json\", \"w\") as f:\n",
        "    json.dump(cm_dict, f, indent=4)\n"
      ],
      "metadata": {
        "id": "N1tGfwSHYso5"
      },
      "execution_count": 11,
      "outputs": []
    },
    {
      "cell_type": "code",
      "execution_count": 12,
      "metadata": {
        "colab": {
          "base_uri": "https://localhost:8080/"
        },
        "id": "WgC1SC3YJpZi",
        "outputId": "35030ae5-076b-4bbe-bf58-33eab478a830"
      },
      "outputs": [
        {
          "output_type": "execute_result",
          "data": {
            "text/plain": [
              "('./scibert_classifier/tokenizer_config.json',\n",
              " './scibert_classifier/special_tokens_map.json',\n",
              " './scibert_classifier/vocab.txt',\n",
              " './scibert_classifier/added_tokens.json',\n",
              " './scibert_classifier/tokenizer.json')"
            ]
          },
          "metadata": {},
          "execution_count": 12
        }
      ],
      "source": [
        "# ================================================\n",
        "# 9. Guardar modelo y tokenizer\n",
        "# ================================================\n",
        "trainer.save_model(\"./scibert_classifier\")\n",
        "tokenizer.save_pretrained(\"./scibert_classifier\")\n",
        "\n"
      ]
    },
    {
      "cell_type": "code",
      "execution_count": 13,
      "metadata": {
        "colab": {
          "base_uri": "https://localhost:8080/"
        },
        "id": "rR_q7GGXJwLl",
        "outputId": "a1d46f9d-ff4b-4dd0-b3c1-753d9f29d7a9"
      },
      "outputs": [
        {
          "output_type": "stream",
          "name": "stdout",
          "text": [
            "Etiquetas predichas: ['cardiovascular']\n"
          ]
        }
      ],
      "source": [
        "# ================================================\n",
        "# 10. Ejemplo de predicción con un texto nuevo\n",
        "# ================================================\n",
        "\n",
        "\n",
        "# Texto de entrada: Es \"title + abstract\" como se hizo en el dataset\n",
        "example_text = \"Mechanisms of myocardial ischemia induced by epinephrine: comparison with exercise-induced ischemia. The role of epinephrine in eliciting myocardial ischemia was examined in patients with coronary artery disease. Objective signs of ischemia and factors increasing myocardial oxygen consumption were compared during epinephrine infusion and supine bicycle exercise. Both epinephrine and exercise produced myocardial ischemia as evidenced by ST segment depression and angina. However, the mechanisms of myocardial ischemia induced by epinephrine were significantly different from those of exercise. Exercise-induced myocardial ischemia was marked predominantly by increased heart rate and rate-pressure product with a minor contribution of end-diastolic volume, while epinephrine-induced ischemia was characterized by a marked increase in contractility and a less pronounced increase in heart rate and rate-pressure product. These findings indicate that ischemia produced by epinephrine, as may occur during states of emotional distress, has a mechanism distinct from that due to physical exertion.\"\n",
        "\n",
        "def predict(text, model, tokenizer, mlb, threshold=0.5, max_length=256):\n",
        "    device = torch.device(\"cuda\" if torch.cuda.is_available() else \"cpu\")\n",
        "    model.to(device)\n",
        "    model.eval()\n",
        "\n",
        "    encoding = tokenizer(\n",
        "        text,\n",
        "        truncation=True,\n",
        "        padding=True,\n",
        "        max_length=max_length,\n",
        "        return_tensors=\"pt\"\n",
        "    ).to(device)\n",
        "\n",
        "    with torch.no_grad():\n",
        "        outputs = model(**encoding)\n",
        "        logits = outputs.logits\n",
        "        probs = torch.sigmoid(logits).cpu().numpy()[0]\n",
        "\n",
        "    predicted_labels = [cls for cls, prob in zip(mlb.classes_, probs) if prob > threshold]\n",
        "    return predicted_labels, probs\n",
        "\n",
        "labels, probs = predict(example_text, model, tokenizer, mlb)\n",
        "print(\"Etiquetas predichas:\", labels)"
      ]
    },
    {
      "cell_type": "code",
      "source": [
        "# ================================================\n",
        "# 11. Descargar el modelo\n",
        "# ================================================\n",
        "\n",
        "# Comprimir la carpeta en un archivo .zip\n",
        "!zip -r scibert_classifier.zip ./scibert_classifier\n",
        "\n",
        "# 2. Descargar a tu computador\n",
        "from google.colab import files\n",
        "files.download(\"scibert_classifier.zip\")\n"
      ],
      "metadata": {
        "colab": {
          "base_uri": "https://localhost:8080/",
          "height": 156
        },
        "id": "eS5WNv_IHmh_",
        "outputId": "6bbdb610-52db-4e0c-9f5f-075389d05b7a"
      },
      "execution_count": 14,
      "outputs": [
        {
          "output_type": "stream",
          "name": "stdout",
          "text": [
            "  adding: scibert_classifier/ (stored 0%)\n",
            "  adding: scibert_classifier/tokenizer.json (deflated 71%)\n",
            "  adding: scibert_classifier/model.safetensors (deflated 7%)\n",
            "  adding: scibert_classifier/special_tokens_map.json (deflated 42%)\n",
            "  adding: scibert_classifier/training_args.bin (deflated 53%)\n",
            "  adding: scibert_classifier/vocab.txt (deflated 52%)\n",
            "  adding: scibert_classifier/config.json (deflated 53%)\n",
            "  adding: scibert_classifier/tokenizer_config.json (deflated 74%)\n"
          ]
        },
        {
          "output_type": "display_data",
          "data": {
            "text/plain": [
              "<IPython.core.display.Javascript object>"
            ],
            "application/javascript": [
              "\n",
              "    async function download(id, filename, size) {\n",
              "      if (!google.colab.kernel.accessAllowed) {\n",
              "        return;\n",
              "      }\n",
              "      const div = document.createElement('div');\n",
              "      const label = document.createElement('label');\n",
              "      label.textContent = `Downloading \"${filename}\": `;\n",
              "      div.appendChild(label);\n",
              "      const progress = document.createElement('progress');\n",
              "      progress.max = size;\n",
              "      div.appendChild(progress);\n",
              "      document.body.appendChild(div);\n",
              "\n",
              "      const buffers = [];\n",
              "      let downloaded = 0;\n",
              "\n",
              "      const channel = await google.colab.kernel.comms.open(id);\n",
              "      // Send a message to notify the kernel that we're ready.\n",
              "      channel.send({})\n",
              "\n",
              "      for await (const message of channel.messages) {\n",
              "        // Send a message to notify the kernel that we're ready.\n",
              "        channel.send({})\n",
              "        if (message.buffers) {\n",
              "          for (const buffer of message.buffers) {\n",
              "            buffers.push(buffer);\n",
              "            downloaded += buffer.byteLength;\n",
              "            progress.value = downloaded;\n",
              "          }\n",
              "        }\n",
              "      }\n",
              "      const blob = new Blob(buffers, {type: 'application/binary'});\n",
              "      const a = document.createElement('a');\n",
              "      a.href = window.URL.createObjectURL(blob);\n",
              "      a.download = filename;\n",
              "      div.appendChild(a);\n",
              "      a.click();\n",
              "      div.remove();\n",
              "    }\n",
              "  "
            ]
          },
          "metadata": {}
        },
        {
          "output_type": "display_data",
          "data": {
            "text/plain": [
              "<IPython.core.display.Javascript object>"
            ],
            "application/javascript": [
              "download(\"download_0dd422e9-85af-4993-ab19-6d869aa3e360\", \"scibert_classifier.zip\", 408407176)"
            ]
          },
          "metadata": {}
        }
      ]
    }
  ],
  "metadata": {
    "colab": {
      "provenance": [],
      "gpuType": "T4"
    },
    "kernelspec": {
      "display_name": "Python 3",
      "name": "python3"
    },
    "language_info": {
      "name": "python"
    },
    "accelerator": "GPU",
    "widgets": {
      "application/vnd.jupyter.widget-state+json": {
        "811688a8e4c443209a009f886410fe25": {
          "model_module": "@jupyter-widgets/controls",
          "model_name": "HBoxModel",
          "model_module_version": "1.5.0",
          "state": {
            "_dom_classes": [],
            "_model_module": "@jupyter-widgets/controls",
            "_model_module_version": "1.5.0",
            "_model_name": "HBoxModel",
            "_view_count": null,
            "_view_module": "@jupyter-widgets/controls",
            "_view_module_version": "1.5.0",
            "_view_name": "HBoxView",
            "box_style": "",
            "children": [
              "IPY_MODEL_a42cf0841a1f40d9a40a575c0f23e683",
              "IPY_MODEL_c0d73122ecfc44689c648415ff8a0fe9",
              "IPY_MODEL_9db55036451b41d68507135df2677a3f"
            ],
            "layout": "IPY_MODEL_47c09c4e47e8492185c3760e300fbe0a"
          }
        },
        "a42cf0841a1f40d9a40a575c0f23e683": {
          "model_module": "@jupyter-widgets/controls",
          "model_name": "HTMLModel",
          "model_module_version": "1.5.0",
          "state": {
            "_dom_classes": [],
            "_model_module": "@jupyter-widgets/controls",
            "_model_module_version": "1.5.0",
            "_model_name": "HTMLModel",
            "_view_count": null,
            "_view_module": "@jupyter-widgets/controls",
            "_view_module_version": "1.5.0",
            "_view_name": "HTMLView",
            "description": "",
            "description_tooltip": null,
            "layout": "IPY_MODEL_0b7e59582fc94bd586ddd3266f9fa754",
            "placeholder": "​",
            "style": "IPY_MODEL_d39bf4cdb66f4539bb5b55014e3db076",
            "value": "config.json: 100%"
          }
        },
        "c0d73122ecfc44689c648415ff8a0fe9": {
          "model_module": "@jupyter-widgets/controls",
          "model_name": "FloatProgressModel",
          "model_module_version": "1.5.0",
          "state": {
            "_dom_classes": [],
            "_model_module": "@jupyter-widgets/controls",
            "_model_module_version": "1.5.0",
            "_model_name": "FloatProgressModel",
            "_view_count": null,
            "_view_module": "@jupyter-widgets/controls",
            "_view_module_version": "1.5.0",
            "_view_name": "ProgressView",
            "bar_style": "success",
            "description": "",
            "description_tooltip": null,
            "layout": "IPY_MODEL_93e6b534beb54aac9b9d01f9e306d753",
            "max": 385,
            "min": 0,
            "orientation": "horizontal",
            "style": "IPY_MODEL_0892181cd1a044fc8ed55ee8f5276a44",
            "value": 385
          }
        },
        "9db55036451b41d68507135df2677a3f": {
          "model_module": "@jupyter-widgets/controls",
          "model_name": "HTMLModel",
          "model_module_version": "1.5.0",
          "state": {
            "_dom_classes": [],
            "_model_module": "@jupyter-widgets/controls",
            "_model_module_version": "1.5.0",
            "_model_name": "HTMLModel",
            "_view_count": null,
            "_view_module": "@jupyter-widgets/controls",
            "_view_module_version": "1.5.0",
            "_view_name": "HTMLView",
            "description": "",
            "description_tooltip": null,
            "layout": "IPY_MODEL_54241768cad544f58dfe57907af66525",
            "placeholder": "​",
            "style": "IPY_MODEL_5427db2bb6fb44ca92e90bb1c54ec9d1",
            "value": " 385/385 [00:00&lt;00:00, 23.8kB/s]"
          }
        },
        "47c09c4e47e8492185c3760e300fbe0a": {
          "model_module": "@jupyter-widgets/base",
          "model_name": "LayoutModel",
          "model_module_version": "1.2.0",
          "state": {
            "_model_module": "@jupyter-widgets/base",
            "_model_module_version": "1.2.0",
            "_model_name": "LayoutModel",
            "_view_count": null,
            "_view_module": "@jupyter-widgets/base",
            "_view_module_version": "1.2.0",
            "_view_name": "LayoutView",
            "align_content": null,
            "align_items": null,
            "align_self": null,
            "border": null,
            "bottom": null,
            "display": null,
            "flex": null,
            "flex_flow": null,
            "grid_area": null,
            "grid_auto_columns": null,
            "grid_auto_flow": null,
            "grid_auto_rows": null,
            "grid_column": null,
            "grid_gap": null,
            "grid_row": null,
            "grid_template_areas": null,
            "grid_template_columns": null,
            "grid_template_rows": null,
            "height": null,
            "justify_content": null,
            "justify_items": null,
            "left": null,
            "margin": null,
            "max_height": null,
            "max_width": null,
            "min_height": null,
            "min_width": null,
            "object_fit": null,
            "object_position": null,
            "order": null,
            "overflow": null,
            "overflow_x": null,
            "overflow_y": null,
            "padding": null,
            "right": null,
            "top": null,
            "visibility": null,
            "width": null
          }
        },
        "0b7e59582fc94bd586ddd3266f9fa754": {
          "model_module": "@jupyter-widgets/base",
          "model_name": "LayoutModel",
          "model_module_version": "1.2.0",
          "state": {
            "_model_module": "@jupyter-widgets/base",
            "_model_module_version": "1.2.0",
            "_model_name": "LayoutModel",
            "_view_count": null,
            "_view_module": "@jupyter-widgets/base",
            "_view_module_version": "1.2.0",
            "_view_name": "LayoutView",
            "align_content": null,
            "align_items": null,
            "align_self": null,
            "border": null,
            "bottom": null,
            "display": null,
            "flex": null,
            "flex_flow": null,
            "grid_area": null,
            "grid_auto_columns": null,
            "grid_auto_flow": null,
            "grid_auto_rows": null,
            "grid_column": null,
            "grid_gap": null,
            "grid_row": null,
            "grid_template_areas": null,
            "grid_template_columns": null,
            "grid_template_rows": null,
            "height": null,
            "justify_content": null,
            "justify_items": null,
            "left": null,
            "margin": null,
            "max_height": null,
            "max_width": null,
            "min_height": null,
            "min_width": null,
            "object_fit": null,
            "object_position": null,
            "order": null,
            "overflow": null,
            "overflow_x": null,
            "overflow_y": null,
            "padding": null,
            "right": null,
            "top": null,
            "visibility": null,
            "width": null
          }
        },
        "d39bf4cdb66f4539bb5b55014e3db076": {
          "model_module": "@jupyter-widgets/controls",
          "model_name": "DescriptionStyleModel",
          "model_module_version": "1.5.0",
          "state": {
            "_model_module": "@jupyter-widgets/controls",
            "_model_module_version": "1.5.0",
            "_model_name": "DescriptionStyleModel",
            "_view_count": null,
            "_view_module": "@jupyter-widgets/base",
            "_view_module_version": "1.2.0",
            "_view_name": "StyleView",
            "description_width": ""
          }
        },
        "93e6b534beb54aac9b9d01f9e306d753": {
          "model_module": "@jupyter-widgets/base",
          "model_name": "LayoutModel",
          "model_module_version": "1.2.0",
          "state": {
            "_model_module": "@jupyter-widgets/base",
            "_model_module_version": "1.2.0",
            "_model_name": "LayoutModel",
            "_view_count": null,
            "_view_module": "@jupyter-widgets/base",
            "_view_module_version": "1.2.0",
            "_view_name": "LayoutView",
            "align_content": null,
            "align_items": null,
            "align_self": null,
            "border": null,
            "bottom": null,
            "display": null,
            "flex": null,
            "flex_flow": null,
            "grid_area": null,
            "grid_auto_columns": null,
            "grid_auto_flow": null,
            "grid_auto_rows": null,
            "grid_column": null,
            "grid_gap": null,
            "grid_row": null,
            "grid_template_areas": null,
            "grid_template_columns": null,
            "grid_template_rows": null,
            "height": null,
            "justify_content": null,
            "justify_items": null,
            "left": null,
            "margin": null,
            "max_height": null,
            "max_width": null,
            "min_height": null,
            "min_width": null,
            "object_fit": null,
            "object_position": null,
            "order": null,
            "overflow": null,
            "overflow_x": null,
            "overflow_y": null,
            "padding": null,
            "right": null,
            "top": null,
            "visibility": null,
            "width": null
          }
        },
        "0892181cd1a044fc8ed55ee8f5276a44": {
          "model_module": "@jupyter-widgets/controls",
          "model_name": "ProgressStyleModel",
          "model_module_version": "1.5.0",
          "state": {
            "_model_module": "@jupyter-widgets/controls",
            "_model_module_version": "1.5.0",
            "_model_name": "ProgressStyleModel",
            "_view_count": null,
            "_view_module": "@jupyter-widgets/base",
            "_view_module_version": "1.2.0",
            "_view_name": "StyleView",
            "bar_color": null,
            "description_width": ""
          }
        },
        "54241768cad544f58dfe57907af66525": {
          "model_module": "@jupyter-widgets/base",
          "model_name": "LayoutModel",
          "model_module_version": "1.2.0",
          "state": {
            "_model_module": "@jupyter-widgets/base",
            "_model_module_version": "1.2.0",
            "_model_name": "LayoutModel",
            "_view_count": null,
            "_view_module": "@jupyter-widgets/base",
            "_view_module_version": "1.2.0",
            "_view_name": "LayoutView",
            "align_content": null,
            "align_items": null,
            "align_self": null,
            "border": null,
            "bottom": null,
            "display": null,
            "flex": null,
            "flex_flow": null,
            "grid_area": null,
            "grid_auto_columns": null,
            "grid_auto_flow": null,
            "grid_auto_rows": null,
            "grid_column": null,
            "grid_gap": null,
            "grid_row": null,
            "grid_template_areas": null,
            "grid_template_columns": null,
            "grid_template_rows": null,
            "height": null,
            "justify_content": null,
            "justify_items": null,
            "left": null,
            "margin": null,
            "max_height": null,
            "max_width": null,
            "min_height": null,
            "min_width": null,
            "object_fit": null,
            "object_position": null,
            "order": null,
            "overflow": null,
            "overflow_x": null,
            "overflow_y": null,
            "padding": null,
            "right": null,
            "top": null,
            "visibility": null,
            "width": null
          }
        },
        "5427db2bb6fb44ca92e90bb1c54ec9d1": {
          "model_module": "@jupyter-widgets/controls",
          "model_name": "DescriptionStyleModel",
          "model_module_version": "1.5.0",
          "state": {
            "_model_module": "@jupyter-widgets/controls",
            "_model_module_version": "1.5.0",
            "_model_name": "DescriptionStyleModel",
            "_view_count": null,
            "_view_module": "@jupyter-widgets/base",
            "_view_module_version": "1.2.0",
            "_view_name": "StyleView",
            "description_width": ""
          }
        },
        "47f70210a6b94d2d9e9f4147a3a40a93": {
          "model_module": "@jupyter-widgets/controls",
          "model_name": "HBoxModel",
          "model_module_version": "1.5.0",
          "state": {
            "_dom_classes": [],
            "_model_module": "@jupyter-widgets/controls",
            "_model_module_version": "1.5.0",
            "_model_name": "HBoxModel",
            "_view_count": null,
            "_view_module": "@jupyter-widgets/controls",
            "_view_module_version": "1.5.0",
            "_view_name": "HBoxView",
            "box_style": "",
            "children": [
              "IPY_MODEL_2d098febff7b43e2add177eeb3988079",
              "IPY_MODEL_72b2b1bd1e3444f7be1cc9fe9cb2e028",
              "IPY_MODEL_34f0360bc98040f487a826c1279ce8f7"
            ],
            "layout": "IPY_MODEL_1925eb928fd348e6898b91d57b6e7a57"
          }
        },
        "2d098febff7b43e2add177eeb3988079": {
          "model_module": "@jupyter-widgets/controls",
          "model_name": "HTMLModel",
          "model_module_version": "1.5.0",
          "state": {
            "_dom_classes": [],
            "_model_module": "@jupyter-widgets/controls",
            "_model_module_version": "1.5.0",
            "_model_name": "HTMLModel",
            "_view_count": null,
            "_view_module": "@jupyter-widgets/controls",
            "_view_module_version": "1.5.0",
            "_view_name": "HTMLView",
            "description": "",
            "description_tooltip": null,
            "layout": "IPY_MODEL_cc73bc36175849beb4ac8e3a2fb8ed96",
            "placeholder": "​",
            "style": "IPY_MODEL_1d5a9a2c9d7e4b5795e4beef86ce7eb5",
            "value": "vocab.txt: "
          }
        },
        "72b2b1bd1e3444f7be1cc9fe9cb2e028": {
          "model_module": "@jupyter-widgets/controls",
          "model_name": "FloatProgressModel",
          "model_module_version": "1.5.0",
          "state": {
            "_dom_classes": [],
            "_model_module": "@jupyter-widgets/controls",
            "_model_module_version": "1.5.0",
            "_model_name": "FloatProgressModel",
            "_view_count": null,
            "_view_module": "@jupyter-widgets/controls",
            "_view_module_version": "1.5.0",
            "_view_name": "ProgressView",
            "bar_style": "success",
            "description": "",
            "description_tooltip": null,
            "layout": "IPY_MODEL_4b09cc8c54a048938c28b11ed8f3cba7",
            "max": 1,
            "min": 0,
            "orientation": "horizontal",
            "style": "IPY_MODEL_24fa4ac33d1443049631b20cd37d16a9",
            "value": 1
          }
        },
        "34f0360bc98040f487a826c1279ce8f7": {
          "model_module": "@jupyter-widgets/controls",
          "model_name": "HTMLModel",
          "model_module_version": "1.5.0",
          "state": {
            "_dom_classes": [],
            "_model_module": "@jupyter-widgets/controls",
            "_model_module_version": "1.5.0",
            "_model_name": "HTMLModel",
            "_view_count": null,
            "_view_module": "@jupyter-widgets/controls",
            "_view_module_version": "1.5.0",
            "_view_name": "HTMLView",
            "description": "",
            "description_tooltip": null,
            "layout": "IPY_MODEL_0f8fcebb1e0f4103939a140c52c96b92",
            "placeholder": "​",
            "style": "IPY_MODEL_151d79e2c84347278927e661c147908f",
            "value": " 228k/? [00:00&lt;00:00, 8.36MB/s]"
          }
        },
        "1925eb928fd348e6898b91d57b6e7a57": {
          "model_module": "@jupyter-widgets/base",
          "model_name": "LayoutModel",
          "model_module_version": "1.2.0",
          "state": {
            "_model_module": "@jupyter-widgets/base",
            "_model_module_version": "1.2.0",
            "_model_name": "LayoutModel",
            "_view_count": null,
            "_view_module": "@jupyter-widgets/base",
            "_view_module_version": "1.2.0",
            "_view_name": "LayoutView",
            "align_content": null,
            "align_items": null,
            "align_self": null,
            "border": null,
            "bottom": null,
            "display": null,
            "flex": null,
            "flex_flow": null,
            "grid_area": null,
            "grid_auto_columns": null,
            "grid_auto_flow": null,
            "grid_auto_rows": null,
            "grid_column": null,
            "grid_gap": null,
            "grid_row": null,
            "grid_template_areas": null,
            "grid_template_columns": null,
            "grid_template_rows": null,
            "height": null,
            "justify_content": null,
            "justify_items": null,
            "left": null,
            "margin": null,
            "max_height": null,
            "max_width": null,
            "min_height": null,
            "min_width": null,
            "object_fit": null,
            "object_position": null,
            "order": null,
            "overflow": null,
            "overflow_x": null,
            "overflow_y": null,
            "padding": null,
            "right": null,
            "top": null,
            "visibility": null,
            "width": null
          }
        },
        "cc73bc36175849beb4ac8e3a2fb8ed96": {
          "model_module": "@jupyter-widgets/base",
          "model_name": "LayoutModel",
          "model_module_version": "1.2.0",
          "state": {
            "_model_module": "@jupyter-widgets/base",
            "_model_module_version": "1.2.0",
            "_model_name": "LayoutModel",
            "_view_count": null,
            "_view_module": "@jupyter-widgets/base",
            "_view_module_version": "1.2.0",
            "_view_name": "LayoutView",
            "align_content": null,
            "align_items": null,
            "align_self": null,
            "border": null,
            "bottom": null,
            "display": null,
            "flex": null,
            "flex_flow": null,
            "grid_area": null,
            "grid_auto_columns": null,
            "grid_auto_flow": null,
            "grid_auto_rows": null,
            "grid_column": null,
            "grid_gap": null,
            "grid_row": null,
            "grid_template_areas": null,
            "grid_template_columns": null,
            "grid_template_rows": null,
            "height": null,
            "justify_content": null,
            "justify_items": null,
            "left": null,
            "margin": null,
            "max_height": null,
            "max_width": null,
            "min_height": null,
            "min_width": null,
            "object_fit": null,
            "object_position": null,
            "order": null,
            "overflow": null,
            "overflow_x": null,
            "overflow_y": null,
            "padding": null,
            "right": null,
            "top": null,
            "visibility": null,
            "width": null
          }
        },
        "1d5a9a2c9d7e4b5795e4beef86ce7eb5": {
          "model_module": "@jupyter-widgets/controls",
          "model_name": "DescriptionStyleModel",
          "model_module_version": "1.5.0",
          "state": {
            "_model_module": "@jupyter-widgets/controls",
            "_model_module_version": "1.5.0",
            "_model_name": "DescriptionStyleModel",
            "_view_count": null,
            "_view_module": "@jupyter-widgets/base",
            "_view_module_version": "1.2.0",
            "_view_name": "StyleView",
            "description_width": ""
          }
        },
        "4b09cc8c54a048938c28b11ed8f3cba7": {
          "model_module": "@jupyter-widgets/base",
          "model_name": "LayoutModel",
          "model_module_version": "1.2.0",
          "state": {
            "_model_module": "@jupyter-widgets/base",
            "_model_module_version": "1.2.0",
            "_model_name": "LayoutModel",
            "_view_count": null,
            "_view_module": "@jupyter-widgets/base",
            "_view_module_version": "1.2.0",
            "_view_name": "LayoutView",
            "align_content": null,
            "align_items": null,
            "align_self": null,
            "border": null,
            "bottom": null,
            "display": null,
            "flex": null,
            "flex_flow": null,
            "grid_area": null,
            "grid_auto_columns": null,
            "grid_auto_flow": null,
            "grid_auto_rows": null,
            "grid_column": null,
            "grid_gap": null,
            "grid_row": null,
            "grid_template_areas": null,
            "grid_template_columns": null,
            "grid_template_rows": null,
            "height": null,
            "justify_content": null,
            "justify_items": null,
            "left": null,
            "margin": null,
            "max_height": null,
            "max_width": null,
            "min_height": null,
            "min_width": null,
            "object_fit": null,
            "object_position": null,
            "order": null,
            "overflow": null,
            "overflow_x": null,
            "overflow_y": null,
            "padding": null,
            "right": null,
            "top": null,
            "visibility": null,
            "width": "20px"
          }
        },
        "24fa4ac33d1443049631b20cd37d16a9": {
          "model_module": "@jupyter-widgets/controls",
          "model_name": "ProgressStyleModel",
          "model_module_version": "1.5.0",
          "state": {
            "_model_module": "@jupyter-widgets/controls",
            "_model_module_version": "1.5.0",
            "_model_name": "ProgressStyleModel",
            "_view_count": null,
            "_view_module": "@jupyter-widgets/base",
            "_view_module_version": "1.2.0",
            "_view_name": "StyleView",
            "bar_color": null,
            "description_width": ""
          }
        },
        "0f8fcebb1e0f4103939a140c52c96b92": {
          "model_module": "@jupyter-widgets/base",
          "model_name": "LayoutModel",
          "model_module_version": "1.2.0",
          "state": {
            "_model_module": "@jupyter-widgets/base",
            "_model_module_version": "1.2.0",
            "_model_name": "LayoutModel",
            "_view_count": null,
            "_view_module": "@jupyter-widgets/base",
            "_view_module_version": "1.2.0",
            "_view_name": "LayoutView",
            "align_content": null,
            "align_items": null,
            "align_self": null,
            "border": null,
            "bottom": null,
            "display": null,
            "flex": null,
            "flex_flow": null,
            "grid_area": null,
            "grid_auto_columns": null,
            "grid_auto_flow": null,
            "grid_auto_rows": null,
            "grid_column": null,
            "grid_gap": null,
            "grid_row": null,
            "grid_template_areas": null,
            "grid_template_columns": null,
            "grid_template_rows": null,
            "height": null,
            "justify_content": null,
            "justify_items": null,
            "left": null,
            "margin": null,
            "max_height": null,
            "max_width": null,
            "min_height": null,
            "min_width": null,
            "object_fit": null,
            "object_position": null,
            "order": null,
            "overflow": null,
            "overflow_x": null,
            "overflow_y": null,
            "padding": null,
            "right": null,
            "top": null,
            "visibility": null,
            "width": null
          }
        },
        "151d79e2c84347278927e661c147908f": {
          "model_module": "@jupyter-widgets/controls",
          "model_name": "DescriptionStyleModel",
          "model_module_version": "1.5.0",
          "state": {
            "_model_module": "@jupyter-widgets/controls",
            "_model_module_version": "1.5.0",
            "_model_name": "DescriptionStyleModel",
            "_view_count": null,
            "_view_module": "@jupyter-widgets/base",
            "_view_module_version": "1.2.0",
            "_view_name": "StyleView",
            "description_width": ""
          }
        },
        "2102780933ab4e4db57e06e14470306a": {
          "model_module": "@jupyter-widgets/controls",
          "model_name": "HBoxModel",
          "model_module_version": "1.5.0",
          "state": {
            "_dom_classes": [],
            "_model_module": "@jupyter-widgets/controls",
            "_model_module_version": "1.5.0",
            "_model_name": "HBoxModel",
            "_view_count": null,
            "_view_module": "@jupyter-widgets/controls",
            "_view_module_version": "1.5.0",
            "_view_name": "HBoxView",
            "box_style": "",
            "children": [
              "IPY_MODEL_8a2ad5493d9e4b0a926dde64283b2100",
              "IPY_MODEL_708f62a6df824c149227285ad3a6526d",
              "IPY_MODEL_f6e6a477dc744dd6ada9c6cf367146dc"
            ],
            "layout": "IPY_MODEL_06343cb6673b4e2196b0b48bfd15defe"
          }
        },
        "8a2ad5493d9e4b0a926dde64283b2100": {
          "model_module": "@jupyter-widgets/controls",
          "model_name": "HTMLModel",
          "model_module_version": "1.5.0",
          "state": {
            "_dom_classes": [],
            "_model_module": "@jupyter-widgets/controls",
            "_model_module_version": "1.5.0",
            "_model_name": "HTMLModel",
            "_view_count": null,
            "_view_module": "@jupyter-widgets/controls",
            "_view_module_version": "1.5.0",
            "_view_name": "HTMLView",
            "description": "",
            "description_tooltip": null,
            "layout": "IPY_MODEL_03a69be961384d73a8d6c2f477338faf",
            "placeholder": "​",
            "style": "IPY_MODEL_0ec1b5e7fd9f42a19923db7f7ec049bc",
            "value": "pytorch_model.bin: 100%"
          }
        },
        "708f62a6df824c149227285ad3a6526d": {
          "model_module": "@jupyter-widgets/controls",
          "model_name": "FloatProgressModel",
          "model_module_version": "1.5.0",
          "state": {
            "_dom_classes": [],
            "_model_module": "@jupyter-widgets/controls",
            "_model_module_version": "1.5.0",
            "_model_name": "FloatProgressModel",
            "_view_count": null,
            "_view_module": "@jupyter-widgets/controls",
            "_view_module_version": "1.5.0",
            "_view_name": "ProgressView",
            "bar_style": "success",
            "description": "",
            "description_tooltip": null,
            "layout": "IPY_MODEL_e24214c2789f491a888fc993e9e4a1a7",
            "max": 442221694,
            "min": 0,
            "orientation": "horizontal",
            "style": "IPY_MODEL_1e33d5f38dc8475fa15074bdac7f6596",
            "value": 442221694
          }
        },
        "f6e6a477dc744dd6ada9c6cf367146dc": {
          "model_module": "@jupyter-widgets/controls",
          "model_name": "HTMLModel",
          "model_module_version": "1.5.0",
          "state": {
            "_dom_classes": [],
            "_model_module": "@jupyter-widgets/controls",
            "_model_module_version": "1.5.0",
            "_model_name": "HTMLModel",
            "_view_count": null,
            "_view_module": "@jupyter-widgets/controls",
            "_view_module_version": "1.5.0",
            "_view_name": "HTMLView",
            "description": "",
            "description_tooltip": null,
            "layout": "IPY_MODEL_e33b9a9d524c4ae5b992c63ddc0b9516",
            "placeholder": "​",
            "style": "IPY_MODEL_49bfa09759924529b1419eb93d3a129e",
            "value": " 442M/442M [00:07&lt;00:00, 58.7MB/s]"
          }
        },
        "06343cb6673b4e2196b0b48bfd15defe": {
          "model_module": "@jupyter-widgets/base",
          "model_name": "LayoutModel",
          "model_module_version": "1.2.0",
          "state": {
            "_model_module": "@jupyter-widgets/base",
            "_model_module_version": "1.2.0",
            "_model_name": "LayoutModel",
            "_view_count": null,
            "_view_module": "@jupyter-widgets/base",
            "_view_module_version": "1.2.0",
            "_view_name": "LayoutView",
            "align_content": null,
            "align_items": null,
            "align_self": null,
            "border": null,
            "bottom": null,
            "display": null,
            "flex": null,
            "flex_flow": null,
            "grid_area": null,
            "grid_auto_columns": null,
            "grid_auto_flow": null,
            "grid_auto_rows": null,
            "grid_column": null,
            "grid_gap": null,
            "grid_row": null,
            "grid_template_areas": null,
            "grid_template_columns": null,
            "grid_template_rows": null,
            "height": null,
            "justify_content": null,
            "justify_items": null,
            "left": null,
            "margin": null,
            "max_height": null,
            "max_width": null,
            "min_height": null,
            "min_width": null,
            "object_fit": null,
            "object_position": null,
            "order": null,
            "overflow": null,
            "overflow_x": null,
            "overflow_y": null,
            "padding": null,
            "right": null,
            "top": null,
            "visibility": null,
            "width": null
          }
        },
        "03a69be961384d73a8d6c2f477338faf": {
          "model_module": "@jupyter-widgets/base",
          "model_name": "LayoutModel",
          "model_module_version": "1.2.0",
          "state": {
            "_model_module": "@jupyter-widgets/base",
            "_model_module_version": "1.2.0",
            "_model_name": "LayoutModel",
            "_view_count": null,
            "_view_module": "@jupyter-widgets/base",
            "_view_module_version": "1.2.0",
            "_view_name": "LayoutView",
            "align_content": null,
            "align_items": null,
            "align_self": null,
            "border": null,
            "bottom": null,
            "display": null,
            "flex": null,
            "flex_flow": null,
            "grid_area": null,
            "grid_auto_columns": null,
            "grid_auto_flow": null,
            "grid_auto_rows": null,
            "grid_column": null,
            "grid_gap": null,
            "grid_row": null,
            "grid_template_areas": null,
            "grid_template_columns": null,
            "grid_template_rows": null,
            "height": null,
            "justify_content": null,
            "justify_items": null,
            "left": null,
            "margin": null,
            "max_height": null,
            "max_width": null,
            "min_height": null,
            "min_width": null,
            "object_fit": null,
            "object_position": null,
            "order": null,
            "overflow": null,
            "overflow_x": null,
            "overflow_y": null,
            "padding": null,
            "right": null,
            "top": null,
            "visibility": null,
            "width": null
          }
        },
        "0ec1b5e7fd9f42a19923db7f7ec049bc": {
          "model_module": "@jupyter-widgets/controls",
          "model_name": "DescriptionStyleModel",
          "model_module_version": "1.5.0",
          "state": {
            "_model_module": "@jupyter-widgets/controls",
            "_model_module_version": "1.5.0",
            "_model_name": "DescriptionStyleModel",
            "_view_count": null,
            "_view_module": "@jupyter-widgets/base",
            "_view_module_version": "1.2.0",
            "_view_name": "StyleView",
            "description_width": ""
          }
        },
        "e24214c2789f491a888fc993e9e4a1a7": {
          "model_module": "@jupyter-widgets/base",
          "model_name": "LayoutModel",
          "model_module_version": "1.2.0",
          "state": {
            "_model_module": "@jupyter-widgets/base",
            "_model_module_version": "1.2.0",
            "_model_name": "LayoutModel",
            "_view_count": null,
            "_view_module": "@jupyter-widgets/base",
            "_view_module_version": "1.2.0",
            "_view_name": "LayoutView",
            "align_content": null,
            "align_items": null,
            "align_self": null,
            "border": null,
            "bottom": null,
            "display": null,
            "flex": null,
            "flex_flow": null,
            "grid_area": null,
            "grid_auto_columns": null,
            "grid_auto_flow": null,
            "grid_auto_rows": null,
            "grid_column": null,
            "grid_gap": null,
            "grid_row": null,
            "grid_template_areas": null,
            "grid_template_columns": null,
            "grid_template_rows": null,
            "height": null,
            "justify_content": null,
            "justify_items": null,
            "left": null,
            "margin": null,
            "max_height": null,
            "max_width": null,
            "min_height": null,
            "min_width": null,
            "object_fit": null,
            "object_position": null,
            "order": null,
            "overflow": null,
            "overflow_x": null,
            "overflow_y": null,
            "padding": null,
            "right": null,
            "top": null,
            "visibility": null,
            "width": null
          }
        },
        "1e33d5f38dc8475fa15074bdac7f6596": {
          "model_module": "@jupyter-widgets/controls",
          "model_name": "ProgressStyleModel",
          "model_module_version": "1.5.0",
          "state": {
            "_model_module": "@jupyter-widgets/controls",
            "_model_module_version": "1.5.0",
            "_model_name": "ProgressStyleModel",
            "_view_count": null,
            "_view_module": "@jupyter-widgets/base",
            "_view_module_version": "1.2.0",
            "_view_name": "StyleView",
            "bar_color": null,
            "description_width": ""
          }
        },
        "e33b9a9d524c4ae5b992c63ddc0b9516": {
          "model_module": "@jupyter-widgets/base",
          "model_name": "LayoutModel",
          "model_module_version": "1.2.0",
          "state": {
            "_model_module": "@jupyter-widgets/base",
            "_model_module_version": "1.2.0",
            "_model_name": "LayoutModel",
            "_view_count": null,
            "_view_module": "@jupyter-widgets/base",
            "_view_module_version": "1.2.0",
            "_view_name": "LayoutView",
            "align_content": null,
            "align_items": null,
            "align_self": null,
            "border": null,
            "bottom": null,
            "display": null,
            "flex": null,
            "flex_flow": null,
            "grid_area": null,
            "grid_auto_columns": null,
            "grid_auto_flow": null,
            "grid_auto_rows": null,
            "grid_column": null,
            "grid_gap": null,
            "grid_row": null,
            "grid_template_areas": null,
            "grid_template_columns": null,
            "grid_template_rows": null,
            "height": null,
            "justify_content": null,
            "justify_items": null,
            "left": null,
            "margin": null,
            "max_height": null,
            "max_width": null,
            "min_height": null,
            "min_width": null,
            "object_fit": null,
            "object_position": null,
            "order": null,
            "overflow": null,
            "overflow_x": null,
            "overflow_y": null,
            "padding": null,
            "right": null,
            "top": null,
            "visibility": null,
            "width": null
          }
        },
        "49bfa09759924529b1419eb93d3a129e": {
          "model_module": "@jupyter-widgets/controls",
          "model_name": "DescriptionStyleModel",
          "model_module_version": "1.5.0",
          "state": {
            "_model_module": "@jupyter-widgets/controls",
            "_model_module_version": "1.5.0",
            "_model_name": "DescriptionStyleModel",
            "_view_count": null,
            "_view_module": "@jupyter-widgets/base",
            "_view_module_version": "1.2.0",
            "_view_name": "StyleView",
            "description_width": ""
          }
        },
        "c15232cd1a304129905bbd746f29c3cd": {
          "model_module": "@jupyter-widgets/controls",
          "model_name": "HBoxModel",
          "model_module_version": "1.5.0",
          "state": {
            "_dom_classes": [],
            "_model_module": "@jupyter-widgets/controls",
            "_model_module_version": "1.5.0",
            "_model_name": "HBoxModel",
            "_view_count": null,
            "_view_module": "@jupyter-widgets/controls",
            "_view_module_version": "1.5.0",
            "_view_name": "HBoxView",
            "box_style": "",
            "children": [
              "IPY_MODEL_8b7a3b05e41c4cbc8697dae0161a2a5c",
              "IPY_MODEL_99bd72fcc249404ba4a16c63ab0c20ce",
              "IPY_MODEL_fab889b4616c46cca158048207c3e75d"
            ],
            "layout": "IPY_MODEL_b54733d2209e448693fd83558f616340"
          }
        },
        "8b7a3b05e41c4cbc8697dae0161a2a5c": {
          "model_module": "@jupyter-widgets/controls",
          "model_name": "HTMLModel",
          "model_module_version": "1.5.0",
          "state": {
            "_dom_classes": [],
            "_model_module": "@jupyter-widgets/controls",
            "_model_module_version": "1.5.0",
            "_model_name": "HTMLModel",
            "_view_count": null,
            "_view_module": "@jupyter-widgets/controls",
            "_view_module_version": "1.5.0",
            "_view_name": "HTMLView",
            "description": "",
            "description_tooltip": null,
            "layout": "IPY_MODEL_fcba3ecf9edd4aeab085d8aaf8c77cfe",
            "placeholder": "​",
            "style": "IPY_MODEL_683e627297ba44f5a89b4940879907b4",
            "value": "model.safetensors: 100%"
          }
        },
        "99bd72fcc249404ba4a16c63ab0c20ce": {
          "model_module": "@jupyter-widgets/controls",
          "model_name": "FloatProgressModel",
          "model_module_version": "1.5.0",
          "state": {
            "_dom_classes": [],
            "_model_module": "@jupyter-widgets/controls",
            "_model_module_version": "1.5.0",
            "_model_name": "FloatProgressModel",
            "_view_count": null,
            "_view_module": "@jupyter-widgets/controls",
            "_view_module_version": "1.5.0",
            "_view_name": "ProgressView",
            "bar_style": "success",
            "description": "",
            "description_tooltip": null,
            "layout": "IPY_MODEL_3943dda52c304cae89ecebe529c41313",
            "max": 442197096,
            "min": 0,
            "orientation": "horizontal",
            "style": "IPY_MODEL_bf7a6f8097e5420e834768a40ce073ec",
            "value": 442197096
          }
        },
        "fab889b4616c46cca158048207c3e75d": {
          "model_module": "@jupyter-widgets/controls",
          "model_name": "HTMLModel",
          "model_module_version": "1.5.0",
          "state": {
            "_dom_classes": [],
            "_model_module": "@jupyter-widgets/controls",
            "_model_module_version": "1.5.0",
            "_model_name": "HTMLModel",
            "_view_count": null,
            "_view_module": "@jupyter-widgets/controls",
            "_view_module_version": "1.5.0",
            "_view_name": "HTMLView",
            "description": "",
            "description_tooltip": null,
            "layout": "IPY_MODEL_f46af02708bf4749a95f8a4b49c60897",
            "placeholder": "​",
            "style": "IPY_MODEL_f6f1611ff5bb4b9084f216a1dea3f5fc",
            "value": " 442M/442M [00:07&lt;00:00, 54.8MB/s]"
          }
        },
        "b54733d2209e448693fd83558f616340": {
          "model_module": "@jupyter-widgets/base",
          "model_name": "LayoutModel",
          "model_module_version": "1.2.0",
          "state": {
            "_model_module": "@jupyter-widgets/base",
            "_model_module_version": "1.2.0",
            "_model_name": "LayoutModel",
            "_view_count": null,
            "_view_module": "@jupyter-widgets/base",
            "_view_module_version": "1.2.0",
            "_view_name": "LayoutView",
            "align_content": null,
            "align_items": null,
            "align_self": null,
            "border": null,
            "bottom": null,
            "display": null,
            "flex": null,
            "flex_flow": null,
            "grid_area": null,
            "grid_auto_columns": null,
            "grid_auto_flow": null,
            "grid_auto_rows": null,
            "grid_column": null,
            "grid_gap": null,
            "grid_row": null,
            "grid_template_areas": null,
            "grid_template_columns": null,
            "grid_template_rows": null,
            "height": null,
            "justify_content": null,
            "justify_items": null,
            "left": null,
            "margin": null,
            "max_height": null,
            "max_width": null,
            "min_height": null,
            "min_width": null,
            "object_fit": null,
            "object_position": null,
            "order": null,
            "overflow": null,
            "overflow_x": null,
            "overflow_y": null,
            "padding": null,
            "right": null,
            "top": null,
            "visibility": null,
            "width": null
          }
        },
        "fcba3ecf9edd4aeab085d8aaf8c77cfe": {
          "model_module": "@jupyter-widgets/base",
          "model_name": "LayoutModel",
          "model_module_version": "1.2.0",
          "state": {
            "_model_module": "@jupyter-widgets/base",
            "_model_module_version": "1.2.0",
            "_model_name": "LayoutModel",
            "_view_count": null,
            "_view_module": "@jupyter-widgets/base",
            "_view_module_version": "1.2.0",
            "_view_name": "LayoutView",
            "align_content": null,
            "align_items": null,
            "align_self": null,
            "border": null,
            "bottom": null,
            "display": null,
            "flex": null,
            "flex_flow": null,
            "grid_area": null,
            "grid_auto_columns": null,
            "grid_auto_flow": null,
            "grid_auto_rows": null,
            "grid_column": null,
            "grid_gap": null,
            "grid_row": null,
            "grid_template_areas": null,
            "grid_template_columns": null,
            "grid_template_rows": null,
            "height": null,
            "justify_content": null,
            "justify_items": null,
            "left": null,
            "margin": null,
            "max_height": null,
            "max_width": null,
            "min_height": null,
            "min_width": null,
            "object_fit": null,
            "object_position": null,
            "order": null,
            "overflow": null,
            "overflow_x": null,
            "overflow_y": null,
            "padding": null,
            "right": null,
            "top": null,
            "visibility": null,
            "width": null
          }
        },
        "683e627297ba44f5a89b4940879907b4": {
          "model_module": "@jupyter-widgets/controls",
          "model_name": "DescriptionStyleModel",
          "model_module_version": "1.5.0",
          "state": {
            "_model_module": "@jupyter-widgets/controls",
            "_model_module_version": "1.5.0",
            "_model_name": "DescriptionStyleModel",
            "_view_count": null,
            "_view_module": "@jupyter-widgets/base",
            "_view_module_version": "1.2.0",
            "_view_name": "StyleView",
            "description_width": ""
          }
        },
        "3943dda52c304cae89ecebe529c41313": {
          "model_module": "@jupyter-widgets/base",
          "model_name": "LayoutModel",
          "model_module_version": "1.2.0",
          "state": {
            "_model_module": "@jupyter-widgets/base",
            "_model_module_version": "1.2.0",
            "_model_name": "LayoutModel",
            "_view_count": null,
            "_view_module": "@jupyter-widgets/base",
            "_view_module_version": "1.2.0",
            "_view_name": "LayoutView",
            "align_content": null,
            "align_items": null,
            "align_self": null,
            "border": null,
            "bottom": null,
            "display": null,
            "flex": null,
            "flex_flow": null,
            "grid_area": null,
            "grid_auto_columns": null,
            "grid_auto_flow": null,
            "grid_auto_rows": null,
            "grid_column": null,
            "grid_gap": null,
            "grid_row": null,
            "grid_template_areas": null,
            "grid_template_columns": null,
            "grid_template_rows": null,
            "height": null,
            "justify_content": null,
            "justify_items": null,
            "left": null,
            "margin": null,
            "max_height": null,
            "max_width": null,
            "min_height": null,
            "min_width": null,
            "object_fit": null,
            "object_position": null,
            "order": null,
            "overflow": null,
            "overflow_x": null,
            "overflow_y": null,
            "padding": null,
            "right": null,
            "top": null,
            "visibility": null,
            "width": null
          }
        },
        "bf7a6f8097e5420e834768a40ce073ec": {
          "model_module": "@jupyter-widgets/controls",
          "model_name": "ProgressStyleModel",
          "model_module_version": "1.5.0",
          "state": {
            "_model_module": "@jupyter-widgets/controls",
            "_model_module_version": "1.5.0",
            "_model_name": "ProgressStyleModel",
            "_view_count": null,
            "_view_module": "@jupyter-widgets/base",
            "_view_module_version": "1.2.0",
            "_view_name": "StyleView",
            "bar_color": null,
            "description_width": ""
          }
        },
        "f46af02708bf4749a95f8a4b49c60897": {
          "model_module": "@jupyter-widgets/base",
          "model_name": "LayoutModel",
          "model_module_version": "1.2.0",
          "state": {
            "_model_module": "@jupyter-widgets/base",
            "_model_module_version": "1.2.0",
            "_model_name": "LayoutModel",
            "_view_count": null,
            "_view_module": "@jupyter-widgets/base",
            "_view_module_version": "1.2.0",
            "_view_name": "LayoutView",
            "align_content": null,
            "align_items": null,
            "align_self": null,
            "border": null,
            "bottom": null,
            "display": null,
            "flex": null,
            "flex_flow": null,
            "grid_area": null,
            "grid_auto_columns": null,
            "grid_auto_flow": null,
            "grid_auto_rows": null,
            "grid_column": null,
            "grid_gap": null,
            "grid_row": null,
            "grid_template_areas": null,
            "grid_template_columns": null,
            "grid_template_rows": null,
            "height": null,
            "justify_content": null,
            "justify_items": null,
            "left": null,
            "margin": null,
            "max_height": null,
            "max_width": null,
            "min_height": null,
            "min_width": null,
            "object_fit": null,
            "object_position": null,
            "order": null,
            "overflow": null,
            "overflow_x": null,
            "overflow_y": null,
            "padding": null,
            "right": null,
            "top": null,
            "visibility": null,
            "width": null
          }
        },
        "f6f1611ff5bb4b9084f216a1dea3f5fc": {
          "model_module": "@jupyter-widgets/controls",
          "model_name": "DescriptionStyleModel",
          "model_module_version": "1.5.0",
          "state": {
            "_model_module": "@jupyter-widgets/controls",
            "_model_module_version": "1.5.0",
            "_model_name": "DescriptionStyleModel",
            "_view_count": null,
            "_view_module": "@jupyter-widgets/base",
            "_view_module_version": "1.2.0",
            "_view_name": "StyleView",
            "description_width": ""
          }
        }
      }
    }
  },
  "nbformat": 4,
  "nbformat_minor": 0
}